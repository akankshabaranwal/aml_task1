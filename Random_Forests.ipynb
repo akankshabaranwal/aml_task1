{
 "cells": [
  {
   "cell_type": "code",
   "execution_count": 28,
   "metadata": {
    "scrolled": true
   },
   "outputs": [],
   "source": [
    "import numpy as np\n",
    "import pandas as pd\n",
    "\n",
    "import sklearn\n",
    "from sklearn.metrics import r2_score\n",
    "from sklearn.impute import SimpleImputer\n",
    "from sklearn.ensemble import RandomForestRegressor\n",
    "from sklearn.impute import KNNImputer\n",
    "from sklearn.linear_model import LogisticRegression\n",
    "from sklearn.svm import SVR\n",
    "\n",
    "from sklearn.pipeline import make_pipeline\n",
    "from sklearn.preprocessing import StandardScaler\n",
    "\n",
    "from sklearn.feature_selection import RFECV\n",
    "from sklearn.metrics import r2_score\n",
    "from sklearn.model_selection import train_test_split\n",
    "from sklearn.model_selection import cross_val_score\n",
    "\n",
    "from sklearn.decomposition import PCA"
   ]
  },
  {
   "cell_type": "code",
   "execution_count": 29,
   "metadata": {},
   "outputs": [],
   "source": [
    "X_train_with_id = pd.read_csv('X_train.csv').values\n",
    "Y_train_with_id = pd.read_csv('y_train.csv').values"
   ]
  },
  {
   "cell_type": "code",
   "execution_count": 30,
   "metadata": {},
   "outputs": [],
   "source": [
    "X_train_1, X_test_1, y_train_1, y_test_1 = train_test_split(X_train_with_id, Y_train_with_id, test_size = 0.2)"
   ]
  },
  {
   "cell_type": "code",
   "execution_count": 31,
   "metadata": {},
   "outputs": [],
   "source": [
    "X_train_missing_values = X_train_1[:,1:]\n",
    "Y_train = y_train_1[:,1]\n",
    "Y_test = y_test_1[:,1]"
   ]
  },
  {
   "cell_type": "code",
   "execution_count": 5,
   "metadata": {},
   "outputs": [],
   "source": [
    "imr = SimpleImputer(missing_values = np.nan, strategy = 'median')\n",
    "imr = imr.fit(X_train_missing_values)\n",
    "X_train_temp_imputed = imr.transform(X_train_missing_values)"
   ]
  },
  {
   "cell_type": "code",
   "execution_count": 6,
   "metadata": {},
   "outputs": [],
   "source": [
    "#HYPERPARAMETERS\n",
    "\n",
    "OUTLIER_PERCENTILE = 3"
   ]
  },
  {
   "cell_type": "markdown",
   "metadata": {},
   "source": [
    "# Removing Outliers"
   ]
  },
  {
   "cell_type": "code",
   "execution_count": 7,
   "metadata": {},
   "outputs": [],
   "source": [
    "maximum_values = np.percentile(X_train_temp_imputed, 100 - OUTLIER_PERCENTILE, axis=0)\n",
    "minimum_values = np.percentile(X_train_temp_imputed, OUTLIER_PERCENTILE, axis=0)"
   ]
  },
  {
   "cell_type": "code",
   "execution_count": 8,
   "metadata": {},
   "outputs": [],
   "source": [
    "X_train_outliers_removed = np.ndarray(X_train_temp_imputed.shape)\n",
    "for i in range(X_train_temp_imputed.shape[1]):\n",
    "    indices = np.nonzero(X_train_temp_imputed[:,i] > maximum_values[i])\n",
    "    X_train_outliers_removed[indices,i] = np.nan \n",
    "    indices = np.nonzero(X_train_temp_imputed[:,i] < minimum_values[i])\n",
    "    X_train_outliers_removed[indices,i] = np.nan \n",
    "    #X_train_outliers_removed[:,i] = np.clip(X_train_temp_imputed[:,i],minimum_values[i],maximum_values[i])"
   ]
  },
  {
   "cell_type": "code",
   "execution_count": 34,
   "metadata": {},
   "outputs": [
    {
     "name": "stdout",
     "output_type": "stream",
     "text": [
      "[[3.705e-321 3.542e-321 3.508e-321 1.976e-323 1.734e-321]\n",
      " [5.583e-322 4.456e-321 2.544e-321 4.343e-321 4.150e-321]\n",
      " [1.877e-322 3.948e-321 1.808e-321 1.927e-321 4.274e-321]\n",
      " [1.784e-321 2.579e-321 3.187e-321 3.607e-322 3.562e-321]\n",
      " [3.078e-321 3.617e-321 2.930e-321 2.861e-321 2.955e-321]]\n"
     ]
    }
   ],
   "source": [
    "print(X_train_outliers_removed[:5,:5])"
   ]
  },
  {
   "cell_type": "code",
   "execution_count": 9,
   "metadata": {},
   "outputs": [
    {
     "name": "stdout",
     "output_type": "stream",
     "text": [
      "49664\n",
      "806208\n"
     ]
    }
   ],
   "source": [
    "print(np.count_nonzero(np.isnan(X_train_outliers_removed)))\n",
    "print(X_train_outliers_removed.shape[0]*X_train_outliers_removed.shape[1])"
   ]
  },
  {
   "cell_type": "code",
   "execution_count": 10,
   "metadata": {},
   "outputs": [],
   "source": [
    "X_train_outliers_removed = np.ndarray(X_train_temp_imputed.shape)\n",
    "for i in range(X_train_missing_values.shape[0]):\n",
    "    for j in range(X_train_missing_values.shape[1]):\n",
    "        if np.isnan(X_train_missing_values[i][j]):\n",
    "            X_train_outliers_removed[i][j] = np.nan"
   ]
  },
  {
   "cell_type": "markdown",
   "metadata": {},
   "source": [
    "# Imputing missing values"
   ]
  },
  {
   "cell_type": "code",
   "execution_count": 11,
   "metadata": {},
   "outputs": [],
   "source": [
    "imputer = KNNImputer(n_neighbors=2)\n",
    "imputer.fit(X_train_outliers_removed)\n",
    "X_train = imputer.transform(X_train_outliers_removed)"
   ]
  },
  {
   "cell_type": "code",
   "execution_count": 27,
   "metadata": {},
   "outputs": [
    {
     "data": {
      "text/plain": [
       "array([[3.705e-321, 3.542e-321, 3.508e-321, 1.976e-323, 1.734e-321],\n",
       "       [5.583e-322, 4.456e-321, 2.544e-321, 4.343e-321, 4.150e-321],\n",
       "       [1.877e-322, 3.948e-321, 1.808e-321, 1.927e-321, 4.274e-321],\n",
       "       [1.784e-321, 2.579e-321, 3.187e-321, 3.607e-322, 3.562e-321],\n",
       "       [3.078e-321, 3.617e-321, 2.930e-321, 2.861e-321, 2.955e-321]])"
      ]
     },
     "execution_count": 27,
     "metadata": {},
     "output_type": "execute_result"
    }
   ],
   "source": [
    "X_train_outliers_removed[:5,:5]"
   ]
  },
  {
   "cell_type": "markdown",
   "metadata": {},
   "source": [
    "# Feature Selection"
   ]
  },
  {
   "cell_type": "code",
   "execution_count": 13,
   "metadata": {
    "scrolled": true
   },
   "outputs": [
    {
     "name": "stderr",
     "output_type": "stream",
     "text": [
      "/Users/Dhruv/anaconda3/lib/python3.7/site-packages/sklearn/decomposition/_pca.py:463: RuntimeWarning: invalid value encountered in true_divide\n",
      "  explained_variance_ratio_ = explained_variance_ / total_var\n"
     ]
    }
   ],
   "source": [
    "pca = PCA()\n",
    "sc = StandardScaler()\n",
    "X_train_std = sc.fit_transform(X_train)\n",
    "X_train_pca = pca.fit_transform(X_train_std)"
   ]
  },
  {
   "cell_type": "code",
   "execution_count": 17,
   "metadata": {},
   "outputs": [],
   "source": [
    "X_train_clean = X_train_pca[:,:350]"
   ]
  },
  {
   "cell_type": "code",
   "execution_count": 18,
   "metadata": {},
   "outputs": [
    {
     "name": "stdout",
     "output_type": "stream",
     "text": [
      "(969, 350)\n",
      "(969,)\n"
     ]
    }
   ],
   "source": [
    "print(X_train_clean.shape)\n",
    "print(Y_train.shape)"
   ]
  },
  {
   "cell_type": "code",
   "execution_count": 19,
   "metadata": {
    "scrolled": true
   },
   "outputs": [
    {
     "name": "stdout",
     "output_type": "stream",
     "text": [
      "Fitting estimator with 350 features.\n",
      "Fitting estimator with 298 features.\n",
      "Fitting estimator with 246 features.\n",
      "Fitting estimator with 194 features.\n"
     ]
    }
   ],
   "source": [
    "estimator = RandomForestRegressor(n_estimators=250, max_depth = 15,random_state = 1)\n",
    "selector = RFECV(estimator, cv=3, min_features_to_select = 150, step = 0.15, n_jobs = 4, verbose = 1)\n",
    "selector = selector.fit(X_train_clean, Y_train)"
   ]
  },
  {
   "cell_type": "code",
   "execution_count": 20,
   "metadata": {},
   "outputs": [],
   "source": [
    "pred = selector.predict(X_train_clean)"
   ]
  },
  {
   "cell_type": "code",
   "execution_count": 21,
   "metadata": {},
   "outputs": [
    {
     "name": "stdout",
     "output_type": "stream",
     "text": [
      "-3.363630883601587e-06\n"
     ]
    }
   ],
   "source": [
    "print(r2_score(Y_train, pred))"
   ]
  },
  {
   "cell_type": "code",
   "execution_count": 22,
   "metadata": {},
   "outputs": [
    {
     "name": "stdout",
     "output_type": "stream",
     "text": [
      "-9.769473156828745e-05\n"
     ]
    }
   ],
   "source": [
    "id = X_test_1[:,0]\n",
    "X_test_missing_values = X_test_1[:,1:]\n",
    "X_test_temp_imputed = imr.transform(X_test_missing_values)\n",
    "X_test_outliers_removed = np.ndarray(X_test_temp_imputed.shape)\n",
    "for i in range(X_train_temp_imputed.shape[1]):\n",
    "    X_test_outliers_removed[:,i] = np.clip(X_test_temp_imputed[:,i],minimum_values[i],maximum_values[i])\n",
    "X_test = imputer.transform(X_test_outliers_removed)\n",
    "X_test_std = sc.transform(X_test)\n",
    "X_test_pca = pca.transform(X_test_std)\n",
    "X_test_clean = X_test_pca[:,:350]\n",
    "test_pred = selector.predict(X_test_clean)\n",
    "print(r2_score(Y_test,test_pred))"
   ]
  },
  {
   "cell_type": "markdown",
   "metadata": {},
   "source": [
    "# Model Training"
   ]
  },
  {
   "cell_type": "code",
   "execution_count": 17,
   "metadata": {},
   "outputs": [],
   "source": [
    "X_test_with_id = pd.read_csv('X_test.csv').values"
   ]
  },
  {
   "cell_type": "code",
   "execution_count": 18,
   "metadata": {},
   "outputs": [],
   "source": [
    "id = X_test_with_id[:,0]\n",
    "X_test_missing_values = X_test_with_id[:,1:]\n",
    "X_test_temp_imputed = imr.transform(X_test_missing_values)\n",
    "X_test_outliers_removed = np.ndarray(X_test_temp_imputed.shape)\n",
    "for i in range(X_train_temp_imputed.shape[1]):\n",
    "    X_test_outliers_removed[:,i] = np.clip(X_test_temp_imputed[:,i],minimum_values[i],maximum_values[i])\n",
    "X_test = imputer.transform(X_test_outliers_removed)\n",
    "\n",
    "test_pred = selector.predict(X_test)"
   ]
  },
  {
   "cell_type": "code",
   "execution_count": 19,
   "metadata": {},
   "outputs": [],
   "source": [
    "output = np.ndarray([776,2])"
   ]
  },
  {
   "cell_type": "code",
   "execution_count": 20,
   "metadata": {},
   "outputs": [],
   "source": [
    "output = pd.DataFrame({'id': id, 'y':test_pred})"
   ]
  },
  {
   "cell_type": "code",
   "execution_count": 21,
   "metadata": {},
   "outputs": [
    {
     "name": "stdout",
     "output_type": "stream",
     "text": [
      "(776, 2)\n"
     ]
    }
   ],
   "source": [
    "print(output.shape)"
   ]
  },
  {
   "cell_type": "code",
   "execution_count": 22,
   "metadata": {},
   "outputs": [],
   "source": [
    "output.to_csv(\"RandomForestTry5.csv\")"
   ]
  },
  {
   "cell_type": "code",
   "execution_count": null,
   "metadata": {},
   "outputs": [],
   "source": []
  }
 ],
 "metadata": {
  "kernelspec": {
   "display_name": "Python 3",
   "language": "python",
   "name": "python3"
  },
  "language_info": {
   "codemirror_mode": {
    "name": "ipython",
    "version": 3
   },
   "file_extension": ".py",
   "mimetype": "text/x-python",
   "name": "python",
   "nbconvert_exporter": "python",
   "pygments_lexer": "ipython3",
   "version": "3.7.1"
  }
 },
 "nbformat": 4,
 "nbformat_minor": 2
}
