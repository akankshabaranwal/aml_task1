{
 "cells": [
  {
   "cell_type": "code",
   "execution_count": 1013,
   "metadata": {},
   "outputs": [],
   "source": [
    "import pandas as pd\n",
    "from pandas import read_csv\n",
    "import numpy as np\n",
    "from sklearn.preprocessing import Imputer\n",
    "from sklearn.ensemble import IsolationForest\n",
    "from sklearn.pipeline import make_pipeline\n",
    "from sklearn.preprocessing import StandardScaler\n",
    "from sklearn.pipeline import Pipeline\n",
    "from sklearn.metrics import r2_score\n",
    "from sklearn.discriminant_analysis import LinearDiscriminantAnalysis as LDA\n",
    "from sklearn.ensemble import RandomForestRegressor\n",
    "from sklearn.feature_selection import RFE\n",
    "from sklearn.feature_selection import VarianceThreshold\n",
    "from sklearn.model_selection import train_test_split\n",
    "from sklearn.feature_selection import SelectKBest\n",
    "from sklearn.linear_model import LinearRegression\n",
    "from sklearn.feature_selection import f_regression\n",
    "from sklearn.feature_selection import mutual_info_regression"
   ]
  },
  {
   "cell_type": "code",
   "execution_count": 1014,
   "metadata": {},
   "outputs": [],
   "source": [
    "X_orig = read_csv('AML/task1/X_train.csv',',')\n",
    "Y_orig = read_csv('AML/task1/y_train.csv',',')\n",
    "#X_train, X_test, Y_train, Y_test = train_test_split(X_orig, Y_orig, test_size=0.20, random_state=10, shuffle=True)\n",
    "X_train=X_orig\n",
    "Y_train=Y_orig\n",
    "X_test = read_csv('AML/task1/X_test.csv')\n",
    "X_train=X_train.set_index('id')\n",
    "X_test=X_test.set_index('id')\n",
    "Y_train=Y_train.set_index('id')\n",
    "#Y_test=Y_test.set_index('id')\n",
    "#Y_test=Y_test.set_index('id')"
   ]
  },
  {
   "cell_type": "code",
   "execution_count": 1015,
   "metadata": {},
   "outputs": [],
   "source": [
    "imp = Imputer(missing_values=np.NaN, strategy=\"median\", axis=0)"
   ]
  },
  {
   "cell_type": "code",
   "execution_count": 1016,
   "metadata": {},
   "outputs": [],
   "source": [
    "X_train_id = X_train.index\n",
    "X_train = imp.fit_transform(X_train)\n",
    "X_test_id = X_test.index\n",
    "X_test = imp.transform(X_test)"
   ]
  },
  {
   "cell_type": "code",
   "execution_count": 1017,
   "metadata": {},
   "outputs": [
    {
     "data": {
      "text/plain": [
       "IsolationForest(bootstrap=False, contamination=0.005, max_features=20,\n",
       "        max_samples='auto', n_estimators=20, n_jobs=1, random_state=None,\n",
       "        verbose=0)"
      ]
     },
     "execution_count": 1017,
     "metadata": {},
     "output_type": "execute_result"
    }
   ],
   "source": [
    "#print(X_train.shape)\n",
    "iso = IsolationForest( n_estimators=20, max_samples='auto', contamination=float(0.005), max_features=20)\n",
    "iso.fit(X_train)"
   ]
  },
  {
   "cell_type": "code",
   "execution_count": 1018,
   "metadata": {},
   "outputs": [
    {
     "name": "stdout",
     "output_type": "stream",
     "text": [
      "Outlier in train is i = 87\n",
      "Outlier in train is i = 363\n",
      "Outlier in train is i = 379\n",
      "Outlier in train is i = 591\n",
      "Outlier in train is i = 780\n",
      "Outlier in train is i = 794\n",
      "Outlier in train is i = 1008\n"
     ]
    }
   ],
   "source": [
    "##### Outlier detection in X_train\n",
    "yhat = iso.predict(X_train)\n",
    "mask = yhat != -1 #this mask tells if the output is an outlier or not\n",
    "X_train = pd.DataFrame(X_train)\n",
    "X_train['id'] = X_train_id\n",
    "X_train=X_train.set_index('id')\n",
    "\n",
    "N=X_train.shape[0]\n",
    "for i in range(0,N):\n",
    "    if(mask[i]==False):\n",
    "        X_train=X_train.drop(X_train_id[i])\n",
    "        Y_train=Y_train.drop(X_train_id[i])\n",
    "        print(\"Outlier in train is i = \"+ str(i), flush=True)\n",
    "#Now the outliers have been filtered out for X_train"
   ]
  },
  {
   "cell_type": "code",
   "execution_count": 1019,
   "metadata": {
    "scrolled": true
   },
   "outputs": [],
   "source": [
    "##Outlier detection in X_test\n",
    "#yhat = iso.predict(X_test)\n",
    "#mask = yhat != -1 #this mask tells if the output is an outlier or not\n",
    "#X_test = pd.DataFrame(X_test)\n",
    "#X_test['id'] = X_test_id\n",
    "#X_test=X_test.set_index('id')\n",
    "\n",
    "#N=X_test.shape[0]\n",
    "#for i in range(0,N):\n",
    "#    if(mask[i]==False):\n",
    "#        print(\"Outlier in test is i = \" + str(i), flush = True)\n",
    "#        X_test=X_test.drop(X_test_id[i])\n",
    "#        #Y_test=Y_test.drop(X_test_id[i])\n",
    "##Now the outliers have been filtered out for X_test"
   ]
  },
  {
   "cell_type": "code",
   "execution_count": 1020,
   "metadata": {},
   "outputs": [
    {
     "name": "stderr",
     "output_type": "stream",
     "text": [
      "/usr/lib/python3/dist-packages/sklearn/feature_selection/univariate_selection.py:292: RuntimeWarning: invalid value encountered in sqrt\n",
      "  n_samples * X_means ** 2)\n",
      "/usr/lib/python3/dist-packages/sklearn/feature_selection/univariate_selection.py:298: RuntimeWarning: invalid value encountered in true_divide\n",
      "  corr /= X_norms\n",
      "/usr/lib/python3/dist-packages/scipy/stats/_distn_infrastructure.py:879: RuntimeWarning: invalid value encountered in greater\n",
      "  return (self.a < x) & (x < self.b)\n",
      "/usr/lib/python3/dist-packages/scipy/stats/_distn_infrastructure.py:879: RuntimeWarning: invalid value encountered in less\n",
      "  return (self.a < x) & (x < self.b)\n",
      "/usr/lib/python3/dist-packages/scipy/stats/_distn_infrastructure.py:1818: RuntimeWarning: invalid value encountered in less_equal\n",
      "  cond2 = cond0 & (x <= self.a)\n"
     ]
    }
   ],
   "source": [
    "## Feature selection https://machinelearningmastery.com/feature-selection-for-regression-data/\n",
    "#fs = SelectKBest(score_func=f_regression, k=400)\n",
    "fs = SelectKBest(score_func=f_regression, k=400)\n",
    "Y=Y_train.T\n",
    "Y=Y.values.flatten()\n",
    "fs.fit(X_train, Y)\n",
    "X_train = fs.transform(X_train)\n",
    "X_test = fs.transform(X_test)"
   ]
  },
  {
   "cell_type": "code",
   "execution_count": 1021,
   "metadata": {},
   "outputs": [
    {
     "name": "stdout",
     "output_type": "stream",
     "text": [
      "Fitting estimator with 400 features.\n",
      "Fitting estimator with 360 features.\n",
      "Fitting estimator with 320 features.\n",
      "Fitting estimator with 280 features.\n",
      "Fitting estimator with 240 features.\n",
      "Fitting estimator with 200 features.\n",
      "Fitting estimator with 160 features.\n",
      "0.940026943199\n"
     ]
    }
   ],
   "source": [
    "# Train data\n",
    "#model = LinearRegression()\n",
    "#model.fit(X_train, Y_train)\n",
    "#Y_predict = model.predict(X_train)\n",
    "estimator = RandomForestRegressor(n_estimators=50, max_depth = 20,random_state = 1)\n",
    "selector = RFE(estimator, n_features_to_select=120, step=40, verbose = 1)\n",
    "selector = selector.fit(X_train, Y)\n",
    "Y_predict = selector.predict(X_train)\n",
    "print(r2_score(Y_train,Y_predict))\n",
    "Y_predict = selector.predict(X_test)\n",
    "#print(r2_score(Y_test,Y_predict))\n",
    "Y_df = pd.DataFrame(Y_predict)\n",
    "Y_df=Y_df.reset_index()\n",
    "Y_df.columns=['id','y']\n",
    "Y_df.to_csv(\"NewTest.csv\",header=['id','y'])"
   ]
  },
  {
   "cell_type": "code",
   "execution_count": 1022,
   "metadata": {},
   "outputs": [],
   "source": [
    "#regr = make_pipeline(StandardScaler(), SVR(C=1, epsilon=0.1))"
   ]
  },
  {
   "cell_type": "code",
   "execution_count": 1023,
   "metadata": {},
   "outputs": [],
   "source": [
    "#Y=Y.values.flatten()\n",
    "#regr.fit(X, Y)\n",
    "#Y_predict=regr.predict(X)\n",
    "#score = r2_score(Y,Y_predict)\n",
    "#print(score)"
   ]
  },
  {
   "cell_type": "code",
   "execution_count": 1024,
   "metadata": {},
   "outputs": [],
   "source": [
    "#lda = LDA(n_components=200)\n",
    "#X = lda.fit_transform(X, Y)\n",
    "#X_test = lda.transform(X_test)"
   ]
  },
  {
   "cell_type": "code",
   "execution_count": 1025,
   "metadata": {},
   "outputs": [],
   "source": [
    "#X.shape"
   ]
  },
  {
   "cell_type": "code",
   "execution_count": 1026,
   "metadata": {},
   "outputs": [],
   "source": [
    "#estimator = RandomForestRegressor(n_estimators=250, max_depth = 15,random_state = 1)\n",
    "#selector = RFE(estimator, n_features_to_select=120, step=10, verbose = 1)\n",
    "#selector = RFECV(estimator, cv=3, min_features_to_select = 150, step = 0.15, n_jobs = 4, verbose = 1)\n",
    "#selector = RFECV(estimator, cv=3, step = 0.15, n_jobs = 4, n_features_to_select=120, verbose = 1)\n",
    "#selector = selector.fit(X, Y)\n",
    "#Y_predict = selector.predict(X)\n",
    "#score = r2_score(Y,Y_predict)\n",
    "#print(score)"
   ]
  },
  {
   "cell_type": "code",
   "execution_count": 1027,
   "metadata": {},
   "outputs": [],
   "source": [
    "#X.shape"
   ]
  },
  {
   "cell_type": "code",
   "execution_count": 1028,
   "metadata": {},
   "outputs": [],
   "source": [
    "#dir(selector)\n",
    "#regr.fit(X, Y)"
   ]
  },
  {
   "cell_type": "code",
   "execution_count": 1029,
   "metadata": {},
   "outputs": [],
   "source": [
    "#Y_predict=regr.predict(X)\n",
    "#score = r2_score(Y,Y_predict)\n",
    "#print(score)"
   ]
  },
  {
   "cell_type": "code",
   "execution_count": 1030,
   "metadata": {},
   "outputs": [],
   "source": [
    "#clf = make_pipeline(StandardScaler(), SVC(gamma='auto', C=1, tol=0.1))\n",
    "#clf.fit(X, Y)\n",
    "#Y_predict=clf.predict(X)\n",
    "#score = r2_score(Y,Y_predict)\n",
    "#print(score)"
   ]
  },
  {
   "cell_type": "code",
   "execution_count": 1031,
   "metadata": {},
   "outputs": [],
   "source": [
    "#Y_test_new=selector.predict(X_test)\n",
    "#Y_test=Y_test.T\n",
    "#Y_test=Y_test.values.flatten()\n",
    "#score=r2_score(Y_test_new, Y_test)\n",
    "#Y_df = pd.DataFrame(Y_test_new)\n",
    "#Y_df=Y_df.reset_index()\n",
    "#Y_df.columns=['id','y']"
   ]
  },
  {
   "cell_type": "code",
   "execution_count": 1032,
   "metadata": {},
   "outputs": [],
   "source": [
    "#Y_df.to_csv(\"RandomTest.csv\",header=['id','y'])"
   ]
  }
 ],
 "metadata": {
  "kernelspec": {
   "display_name": "Python 3",
   "language": "python",
   "name": "python3"
  },
  "language_info": {
   "codemirror_mode": {
    "name": "ipython",
    "version": 3
   },
   "file_extension": ".py",
   "mimetype": "text/x-python",
   "name": "python",
   "nbconvert_exporter": "python",
   "pygments_lexer": "ipython3",
   "version": "3.6.9"
  }
 },
 "nbformat": 4,
 "nbformat_minor": 2
}
