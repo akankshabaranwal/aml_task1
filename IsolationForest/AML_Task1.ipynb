{
 "cells": [
  {
   "cell_type": "code",
   "execution_count": 422,
   "metadata": {},
   "outputs": [],
   "source": [
    "import pandas as pd\n",
    "from pandas import read_csv\n",
    "import numpy as np\n",
    "from sklearn.preprocessing import Imputer\n",
    "from sklearn.ensemble import IsolationForest\n",
    "from sklearn.pipeline import make_pipeline"
   ]
  },
  {
   "cell_type": "code",
   "execution_count": 423,
   "metadata": {},
   "outputs": [],
   "source": [
    "X = read_csv('AML/task1/X_train.csv',',')\n",
    "Y = read_csv('AML/task1/y_train.csv',',')\n",
    "Y=Y.set_index('id')"
   ]
  },
  {
   "cell_type": "code",
   "execution_count": 424,
   "metadata": {},
   "outputs": [
    {
     "name": "stdout",
     "output_type": "stream",
     "text": [
      "<class 'pandas.core.frame.DataFrame'>\n",
      "RangeIndex: 1212 entries, 0 to 1211\n",
      "Columns: 833 entries, id to x831\n",
      "dtypes: float64(833)\n",
      "memory usage: 7.7 MB\n"
     ]
    }
   ],
   "source": [
    "X.info()"
   ]
  },
  {
   "cell_type": "code",
   "execution_count": 425,
   "metadata": {},
   "outputs": [],
   "source": [
    "imp = Imputer(missing_values=np.NaN, strategy=\"median\", axis=0)"
   ]
  },
  {
   "cell_type": "code",
   "execution_count": 426,
   "metadata": {},
   "outputs": [],
   "source": [
    "X_np = imp.fit_transform(X)\n",
    "X = pd.DataFrame(X_np) #Here the NaNs in X have been replaced by median imputed values"
   ]
  },
  {
   "cell_type": "code",
   "execution_count": 427,
   "metadata": {},
   "outputs": [],
   "source": [
    "iso = IsolationForest( n_estimators=100, max_samples=1212, contamination=.04, max_features=X.shape[1])\n",
    "iso.fit(X)\n",
    "yhat = iso.predict(X)\n",
    "mask = yhat != -1 #this mask tells if the output is an outlier or not"
   ]
  },
  {
   "cell_type": "code",
   "execution_count": 428,
   "metadata": {},
   "outputs": [],
   "source": [
    "for i in range(0,1212):\n",
    "    if(mask[i]==False):\n",
    "        X=X.drop([i], axis=0)\n",
    "        Y=Y.drop([i], axis=0)\n",
    "X.to_csv(\"AML/task1/X_outliers_removed.csv\")\n",
    "Y.to_csv(\"AML/task1/Y_outliers_removed.csv\")"
   ]
  }
 ],
 "metadata": {
  "kernelspec": {
   "display_name": "Python 3",
   "language": "python",
   "name": "python3"
  },
  "language_info": {
   "codemirror_mode": {
    "name": "ipython",
    "version": 3
   },
   "file_extension": ".py",
   "mimetype": "text/x-python",
   "name": "python",
   "nbconvert_exporter": "python",
   "pygments_lexer": "ipython3",
   "version": "3.6.9"
  }
 },
 "nbformat": 4,
 "nbformat_minor": 2
}
